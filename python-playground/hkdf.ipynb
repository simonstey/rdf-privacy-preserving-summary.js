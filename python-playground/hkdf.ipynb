{
 "metadata": {
  "language_info": {
   "codemirror_mode": {
    "name": "ipython",
    "version": 3
   },
   "file_extension": ".py",
   "mimetype": "text/x-python",
   "name": "python",
   "nbconvert_exporter": "python",
   "pygments_lexer": "ipython3",
   "version": "3.8.5-final"
  },
  "orig_nbformat": 2,
  "kernelspec": {
   "name": "python3",
   "display_name": "Python 3",
   "language": "python"
  }
 },
 "nbformat": 4,
 "nbformat_minor": 2,
 "cells": [
  {
   "cell_type": "code",
   "execution_count": 1,
   "metadata": {},
   "outputs": [
    {
     "output_type": "stream",
     "name": "stdout",
     "text": [
      "Alice public key: 0x17c3742905ed11e250fecd11268fdcddbca776a868593eee45e1d409d1b76ada0\n",
      "Bob public key: 0x4f1c3bead0a8d7822d9d5ae777bce809839df4c72b9d8dee24bbdcd25c3b099d0\n",
      "Now exchange the public keys (e.g. through Internet)\n",
      "Alice shared key: 0x69c9bb051273f22f4df574bc3da0d6387a5a1987ae5f7d6c2be2926a216cdf7e1\n",
      "Bob shared key: 0x69c9bb051273f22f4df574bc3da0d6387a5a1987ae5f7d6c2be2926a216cdf7e1\n",
      "Equal shared keys: True\n"
     ]
    }
   ],
   "source": [
    "from tinyec import registry\n",
    "import secrets\n",
    "\n",
    "def compress(pubKey):\n",
    "    return hex(pubKey.x) + hex(pubKey.y % 2)[2:]\n",
    "\n",
    "curve = registry.get_curve('brainpoolP256r1')\n",
    "\n",
    "alicePrivKey = secrets.randbelow(curve.field.n)\n",
    "alicePubKey = alicePrivKey * curve.g\n",
    "print(\"Alice public key:\", compress(alicePubKey))\n",
    "\n",
    "bobPrivKey = secrets.randbelow(curve.field.n)\n",
    "bobPubKey = bobPrivKey * curve.g\n",
    "print(\"Bob public key:\", compress(bobPubKey))\n",
    "\n",
    "print(\"Now exchange the public keys (e.g. through Internet)\")\n",
    "\n",
    "aliceSharedKey = alicePrivKey * bobPubKey\n",
    "print(\"Alice shared key:\", compress(aliceSharedKey))\n",
    "\n",
    "bobSharedKey = bobPrivKey * alicePubKey\n",
    "print(\"Bob shared key:\", compress(bobSharedKey))\n",
    "\n",
    "print(\"Equal shared keys:\", aliceSharedKey == bobSharedKey)"
   ]
  },
  {
   "cell_type": "code",
   "execution_count": 2,
   "metadata": {},
   "outputs": [
    {
     "output_type": "stream",
     "name": "stdout",
     "text": [
      "Alice public key: 0x1768d6230e0f602ddd6697f881cc5a511cf3697ad75686329769c8e81841e4d00\nBob public key: 0x6cf45eac412d995a526424698345ee7c112872784193656059166fcf80bbea5d0\nNow exchange the public keys (e.g. through Internet)\nAlice shared key: 0xa18200890c6579a2a1a8ad75f88dfba70d578dc49773bd8e212f11dec36c4e750\nBob shared key: 0xa18200890c6579a2a1a8ad75f88dfba70d578dc49773bd8e212f11dec36c4e750\nEqual shared keys: True\n"
     ]
    }
   ],
   "source": [
    "curve = registry.get_curve('brainpoolP256r1')\n",
    "\n",
    "alicePrivKey = secrets.randbelow(curve.field.n)\n",
    "alicePubKey = alicePrivKey * curve.g\n",
    "print(\"Alice public key:\", compress(alicePubKey))\n",
    "\n",
    "bobPrivKey = secrets.randbelow(curve.field.n)\n",
    "bobPubKey = bobPrivKey * curve.g\n",
    "print(\"Bob public key:\", compress(bobPubKey))\n",
    "\n",
    "print(\"Now exchange the public keys (e.g. through Internet)\")\n",
    "\n",
    "aliceSharedKey = alicePrivKey * bobPubKey\n",
    "print(\"Alice shared key:\", compress(aliceSharedKey))\n",
    "\n",
    "bobSharedKey = bobPrivKey * alicePubKey\n",
    "print(\"Bob shared key:\", compress(bobSharedKey))\n",
    "\n",
    "print(\"Equal shared keys:\", aliceSharedKey == bobSharedKey)"
   ]
  },
  {
   "cell_type": "code",
   "execution_count": 1,
   "metadata": {},
   "outputs": [
    {
     "output_type": "stream",
     "name": "stdout",
     "text": [
      "Encryption public key: 0xb367691ac7073ee1c090e7d051059d93fb4451aff94d617d50d3bc9d60caf716870c066ddc246ccdab06ea9f44785f149a8481b085569f72c4c78651523d3bb4\nDecryption private key: 0x7d338656963d573684deddcc4e85f7df161802ba240eb1c4bb4bbeaee8bca613\nPlaintext: b'Some plaintext for encryption'\nEncrypted: b'0409090437a6ac0ba2efd927066e9ffd01f52649841faf15018b7ff15702b5378471fad718e49e6da5c0460b438f0cfd1327de82f27f6d6c811cebb46d41b7cbd366d5b4f6ba17b292a278d3761677cbf284bb1638f7732e20b38c2722cc607f3f5a0888d29906addf99cc0064199090fb9cc6b7419d64aba6cd4232940c'\nDecrypted: b'Some plaintext for encryption'\n"
     ]
    }
   ],
   "source": [
    "from ecies.utils import generate_eth_key\n",
    "from ecies import encrypt, decrypt\n",
    "import binascii\n",
    "\n",
    "privKey = generate_eth_key()\n",
    "privKeyHex = privKey.to_hex()\n",
    "pubKeyHex = privKey.public_key.to_hex()\n",
    "print(\"Encryption public key:\", pubKeyHex)\n",
    "print(\"Decryption private key:\", privKeyHex)\n",
    "\n",
    "plaintext = b'Some plaintext for encryption'\n",
    "print(\"Plaintext:\", plaintext)\n",
    "\n",
    "encrypted = encrypt(pubKeyHex, plaintext)\n",
    "print(\"Encrypted:\", binascii.hexlify(encrypted))\n",
    "\n",
    "decrypted = decrypt(privKeyHex, encrypted)\n",
    "print(\"Decrypted:\", decrypted)"
   ]
  },
  {
   "cell_type": "code",
   "execution_count": null,
   "metadata": {},
   "outputs": [],
   "source": []
  }
 ]
}